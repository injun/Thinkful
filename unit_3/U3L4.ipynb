{
 "metadata": {
  "celltoolbar": "Raw Cell Format",
  "name": "",
  "signature": "sha256:5d87ee5956c408b1c1ae111df42457d6742d19d40c1d1c3d7d0244556ee2c31c"
 },
 "nbformat": 3,
 "nbformat_minor": 0,
 "worksheets": [
  {
   "cells": [
    {
     "cell_type": "code",
     "collapsed": false,
     "input": [
      "import requests\n",
      "import matplotlib.pyplot as plt\n",
      "import pandas as pd\n",
      "from pandas.io.json import json_normalize\n"
     ],
     "language": "python",
     "metadata": {},
     "outputs": [],
     "prompt_number": 13
    },
    {
     "cell_type": "code",
     "collapsed": false,
     "input": [
      "# downloads that data available in the website in json format\n",
      "r = requests.get('http://www.citibikenyc.com/stations/json')"
     ],
     "language": "python",
     "metadata": {},
     "outputs": [],
     "prompt_number": 14
    },
    {
     "cell_type": "code",
     "collapsed": false,
     "input": [
      "# creates a dataframe with the downloaded data\n",
      "df = json_normalize(r.json()['stationBeanList'])"
     ],
     "language": "python",
     "metadata": {},
     "outputs": [],
     "prompt_number": 15
    },
    {
     "cell_type": "code",
     "collapsed": false,
     "input": [
      "# import data to a table called citybike_reference in an SQL database called city_bike.db\n",
      "\n",
      "import sqlite3 as lite\n",
      "\n",
      "con = lite.connect('city_bike.db')\n",
      "cur = con.cursor()\n",
      "\n",
      "with con:\n",
      "    cur.execute('DROP TABLE IF EXISTS citybike_reference')\n",
      "    cur.execute('CREATE TABLE citybike_reference (id INT PRIMARY KEY, totalDocks INT, city TEXT, altitude INT, stAddress2 TEXT, longitude NUMERIC, postalCode TEXT, testStation TEXT, stAddress1 TEXT, stationName TEXT, landMark TEXT, latitude NUMERIC, location TEXT )')"
     ],
     "language": "python",
     "metadata": {},
     "outputs": [],
     "prompt_number": 16
    },
    {
     "cell_type": "code",
     "collapsed": false,
     "input": [
      "#We use the with keyword as a context manager. At the end of the indented code block, the transaction will commit (be saved) \n",
      "# to the database. It's the same result as using con.commit() but generally using with is cleaner and more readable."
     ],
     "language": "python",
     "metadata": {},
     "outputs": [],
     "prompt_number": 17
    },
    {
     "cell_type": "code",
     "collapsed": false,
     "input": [
      "#Load data\n",
      "#a prepared SQL statement we're going to execute over and over again\n",
      "sql = \"INSERT INTO citybike_reference (id, totalDocks, city, altitude, stAddress2, longitude, postalCode, testStation, stAddress1, stationName, landMark, latitude, location) VALUES (?,?,?,?,?,?,?,?,?,?,?,?,?)\"\n",
      "\n",
      "#for loop to populate values in the database\n",
      "with con:\n",
      "    for station in r.json()['stationBeanList']:\n",
      "        #id, totalDocks, city, altitude, stAddress2, longitude, postalCode, testStation, stAddress1, stationName, landMark, latitude, location)\n",
      "        cur.execute(sql,(station['id'],station['totalDocks'],station['city'],station['altitude'],station['stAddress2'],station['longitude'],station['postalCode'],station['testStation'],station['stAddress1'],station['stationName'],station['landMark'],station['latitude'],station['location']))\n"
     ],
     "language": "python",
     "metadata": {},
     "outputs": [],
     "prompt_number": 23
    },
    {
     "cell_type": "heading",
     "level": 1,
     "metadata": {},
     "source": [
      "availablebikes table is going to need to be a little different. In this case, the station ID (id) is going to be the column name, but since the column name can't start with a number, you'll need to put a character in front of the number (\"_\")."
     ]
    },
    {
     "cell_type": "code",
     "collapsed": false,
     "input": [
      "#extract the column from the DataFrame and put them into a list\n",
      "station_ids = df['id'].tolist() \n",
      "\n",
      "#add the '_' to the station id tag and also add the data type for SQLite\n",
      "station_ids = ['_' + str(x) + ' INT' for x in station_ids]\n",
      "\n",
      "#create the table 'available_bikes'\n",
      "#in this case, we're concatentating the string and joining all the station ids (now with '_' and 'INT' added)\n",
      "with con:\n",
      "    cur.execute('DROP TABLE IF EXISTS available_bikes')\n",
      "    cur.execute(\"CREATE TABLE available_bikes ( execution_time INT, \" +  \", \".join(station_ids) + \");\")\n",
      "    "
     ],
     "language": "python",
     "metadata": {},
     "outputs": [],
     "prompt_number": 22
    },
    {
     "cell_type": "heading",
     "level": 1,
     "metadata": {},
     "source": [
      "Instead of 333 column names being written out, we're using Python to handle everything for us. This helps keep the code compact and reduces the time necessary to set up the database.\n",
      "\n",
      "Now let's populate it with our values for available bikes:"
     ]
    },
    {
     "cell_type": "code",
     "collapsed": false,
     "input": [
      "# a package with datetime objects\n",
      "import time\n",
      "\n",
      "# a package for parsing a string into a Python datetime object\n",
      "from dateutil.parser import parse \n",
      "\n",
      "import collections\n",
      "\n",
      "\n",
      "#take the string and parse it into a Python datetime object\n",
      "exec_time = parse(r.json()['executionTime'])"
     ],
     "language": "python",
     "metadata": {},
     "outputs": [],
     "prompt_number": 9
    },
    {
     "cell_type": "heading",
     "level": 2,
     "metadata": {},
     "source": [
      "As you saw briefly in the lesson on time-series analysis, Python has a datetime object which stores datetime values. This object has attributes for year, month, day, hour, minute, second, microseconds, and timezone. In this case, we're creating a basic naive datetime object without specifying timezone.\n",
      "\n",
      "We create an entry for the execution time by inserting it into the database:"
     ]
    },
    {
     "cell_type": "code",
     "collapsed": false,
     "input": [
      "with con:\n",
      "    cur.execute('INSERT INTO available_bikes (execution_time) VALUES (?)', (exec_time.strftime('%S'),))"
     ],
     "language": "python",
     "metadata": {},
     "outputs": [],
     "prompt_number": 11
    },
    {
     "cell_type": "code",
     "collapsed": false,
     "input": [
      "#Then we iterate through the stations in the \"stationBeanList\":\n",
      "\n",
      "id_bikes = collections.defaultdict(int) #defaultdict to store available bikes by station\n",
      "\n",
      "#loop through the stations in the station list\n",
      "for station in r.json()['stationBeanList']:\n",
      "    id_bikes[station['id']] = station['availableBikes']\n",
      "\n",
      "#iterate through the defaultdict to update the values in the database\n",
      "with con:\n",
      "    for k, v in id_bikes.iteritems():\n",
      "        cur.execute(\"UPDATE available_bikes SET _\" + str(k) + \" = \" + str(v) + \" WHERE execution_time = \" + exec_time.strftime('%S') + \";\")"
     ],
     "language": "python",
     "metadata": {},
     "outputs": [],
     "prompt_number": 12
    },
    {
     "cell_type": "code",
     "collapsed": false,
     "input": [
      "# populate available bikes table with a hour of data\n",
      "for i in range(3):\n",
      "\tr = requests.get('http://www.citibikenyc.com/stations/json')\n",
      "\texec_time = parse(r.json()['executionTime'])\n",
      "\n",
      "\tcur.execute('INSERT INTO available_bikes (execution_time) VALUES (?)', (exec_time.strftime('%S'),))\n",
      "\tcon.commit()\n",
      "\n",
      "\tid_bikes = collections.defaultdict(int)\n",
      "\tfor station in r.json()['stationBeanList']:\n",
      "\t\tid_bikes[station['id']] = station['availableBikes']\n",
      "\n",
      "\tfor k, v in id_bikes.iteritems():\n",
      "\t\tcur.execute(\"UPDATE available_bikes SET _\" + str(k) + \" = \" + str(v) + \" WHERE execution_time = \" + exec_time.strftime('%S') + \";\")\n",
      "\tcon.commit()\n",
      "\n",
      "\ttime.sleep(60)"
     ],
     "language": "python",
     "metadata": {},
     "outputs": [],
     "prompt_number": 15
    },
    {
     "cell_type": "code",
     "collapsed": false,
     "input": [],
     "language": "python",
     "metadata": {},
     "outputs": []
    }
   ],
   "metadata": {}
  }
 ]
}